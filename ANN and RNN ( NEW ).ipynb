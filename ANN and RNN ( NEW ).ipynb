{
 "cells": [
  {
   "cell_type": "code",
   "execution_count": 11,
   "id": "ad6675ea",
   "metadata": {},
   "outputs": [],
   "source": [
    "import pandas as pd\n",
    "import numpy as np\n",
    "import re\n",
    "import nltk\n",
    "import pickle\n",
    "from sklearn.model_selection import train_test_split\n",
    "from sklearn.feature_extraction.text import TfidfVectorizer\n",
    "from sklearn import metrics\n",
    "from sklearn.metrics import confusion_matrix, classification_report\n",
    "from matplotlib import pyplot as plt\n",
    "from sklearn.linear_model import PassiveAggressiveClassifier\n",
    "from nltk.stem import WordNetLemmatizer\n",
    "from nltk.corpus import stopwords\n",
    "from tensorflow.keras.models import Sequential\n",
    "from tensorflow.keras.layers import Dense, LSTM, Embedding, SpatialDropout1D, Dropout"
   ]
  },
  {
   "cell_type": "code",
   "execution_count": 12,
   "id": "dc8fbb78",
   "metadata": {},
   "outputs": [],
   "source": [
    "# Load data\n",
    "train_df = pd.read_csv('train.csv')"
   ]
  },
  {
   "cell_type": "code",
   "execution_count": 13,
   "id": "1580c144",
   "metadata": {},
   "outputs": [],
   "source": [
    "# Drop unwanted columns\n",
    "train_df = train_df.drop([\"author\", \"title\", \"id\"], axis=1)"
   ]
  },
  {
   "cell_type": "code",
   "execution_count": 14,
   "id": "4fa3c936",
   "metadata": {},
   "outputs": [],
   "source": [
    "# Remove rows with missing values\n",
    "train_df = train_df.dropna()"
   ]
  },
  {
   "cell_type": "code",
   "execution_count": 15,
   "id": "44399710",
   "metadata": {},
   "outputs": [],
   "source": [
    "# Reset index\n",
    "train_df.reset_index(drop=True, inplace=True)"
   ]
  },
  {
   "cell_type": "code",
   "execution_count": 16,
   "id": "d4954b66",
   "metadata": {},
   "outputs": [],
   "source": [
    "# Lemmatization and removing stopwords\n",
    "lemmatizer = WordNetLemmatizer()\n",
    "stpwrds = set(stopwords.words('english'))"
   ]
  },
  {
   "cell_type": "code",
   "execution_count": 17,
   "id": "328b9904",
   "metadata": {},
   "outputs": [],
   "source": [
    "def preprocess_text(text):\n",
    "    text = re.sub(r'[^a-zA-Z\\s]', '', text)\n",
    "    text = text.lower()\n",
    "    text = nltk.word_tokenize(text)\n",
    "    text = [lemmatizer.lemmatize(word) for word in text if word not in stpwrds]\n",
    "    return ' '.join(text)"
   ]
  },
  {
   "cell_type": "code",
   "execution_count": 18,
   "id": "3051ef29",
   "metadata": {},
   "outputs": [],
   "source": [
    "train_df['text'] = train_df['text'].apply(preprocess_text)"
   ]
  },
  {
   "cell_type": "code",
   "execution_count": 19,
   "id": "ca51cf53",
   "metadata": {},
   "outputs": [],
   "source": [
    "# Train-test split\n",
    "X_train, X_test, Y_train, Y_test = train_test_split(train_df['text'], train_df['label'], test_size=0.2, random_state=0)"
   ]
  },
  {
   "cell_type": "code",
   "execution_count": 20,
   "id": "cda2a14c",
   "metadata": {},
   "outputs": [],
   "source": [
    "# TF-IDF Vectorization\n",
    "tfidf_v = TfidfVectorizer(max_features=5000)\n",
    "tfidf_X_train = tfidf_v.fit_transform(X_train)\n",
    "tfidf_X_test = tfidf_v.transform(X_test)"
   ]
  },
  {
   "cell_type": "code",
   "execution_count": 22,
   "id": "234e92ff",
   "metadata": {},
   "outputs": [
    {
     "name": "stderr",
     "output_type": "stream",
     "text": [
      "C:\\Users\\91762\\AppData\\Roaming\\Python\\Python311\\site-packages\\keras\\src\\layers\\core\\dense.py:86: UserWarning: Do not pass an `input_shape`/`input_dim` argument to a layer. When using Sequential models, prefer using an `Input(shape)` object as the first layer in the model instead.\n",
      "  super().__init__(activity_regularizer=activity_regularizer, **kwargs)\n"
     ]
    }
   ],
   "source": [
    "# ANN model\n",
    "ann_model = Sequential()\n",
    "ann_model.add(Dense(units=128, activation='relu', input_shape=(tfidf_X_train.shape[1],)))\n",
    "ann_model.add(Dropout(0.5))\n",
    "ann_model.add(Dense(units=64, activation='relu'))\n",
    "ann_model.add(Dropout(0.5))\n",
    "ann_model.add(Dense(units=1, activation='sigmoid'))"
   ]
  },
  {
   "cell_type": "code",
   "execution_count": 23,
   "id": "ddd4e799",
   "metadata": {},
   "outputs": [],
   "source": [
    "ann_model.compile(optimizer='adam', loss='binary_crossentropy', metrics=['accuracy'])"
   ]
  },
  {
   "cell_type": "code",
   "execution_count": 24,
   "id": "f3fad683",
   "metadata": {},
   "outputs": [
    {
     "name": "stdout",
     "output_type": "stream",
     "text": [
      "Epoch 1/2\n",
      "\u001b[1m208/208\u001b[0m \u001b[32m━━━━━━━━━━━━━━━━━━━━\u001b[0m\u001b[37m\u001b[0m \u001b[1m3s\u001b[0m 7ms/step - accuracy: 0.7677 - loss: 0.5008 - val_accuracy: 0.9374 - val_loss: 0.1566\n",
      "Epoch 2/2\n",
      "\u001b[1m208/208\u001b[0m \u001b[32m━━━━━━━━━━━━━━━━━━━━\u001b[0m\u001b[37m\u001b[0m \u001b[1m1s\u001b[0m 6ms/step - accuracy: 0.9585 - loss: 0.1224 - val_accuracy: 0.9482 - val_loss: 0.1350\n"
     ]
    }
   ],
   "source": [
    "# Train the ANN model\n",
    "ann_history = ann_model.fit(tfidf_X_train.toarray(), Y_train, epochs=2, batch_size=64, validation_split=0.2)"
   ]
  },
  {
   "cell_type": "code",
   "execution_count": 25,
   "id": "a9e93d53",
   "metadata": {},
   "outputs": [
    {
     "name": "stdout",
     "output_type": "stream",
     "text": [
      "\u001b[1m130/130\u001b[0m \u001b[32m━━━━━━━━━━━━━━━━━━━━\u001b[0m\u001b[37m\u001b[0m \u001b[1m0s\u001b[0m 2ms/step\n"
     ]
    }
   ],
   "source": [
    "# Evaluate the ANN model\n",
    "ann_Y_pred = (ann_model.predict(tfidf_X_test.toarray()) > 0.5).astype(\"int32\")"
   ]
  },
  {
   "cell_type": "code",
   "execution_count": 26,
   "id": "f2db7f4d",
   "metadata": {},
   "outputs": [
    {
     "name": "stdout",
     "output_type": "stream",
     "text": [
      "Classification Report for ANN:\n",
      "              precision    recall  f1-score   support\n",
      "\n",
      "           0       0.94      0.95      0.95      2104\n",
      "           1       0.95      0.94      0.94      2049\n",
      "\n",
      "    accuracy                           0.95      4153\n",
      "   macro avg       0.95      0.95      0.95      4153\n",
      "weighted avg       0.95      0.95      0.95      4153\n",
      "\n"
     ]
    }
   ],
   "source": [
    "# Classification report for ANN\n",
    "print(\"Classification Report for ANN:\")\n",
    "print(classification_report(Y_test, ann_Y_pred))"
   ]
  },
  {
   "cell_type": "code",
   "execution_count": 28,
   "id": "4c9505d5",
   "metadata": {},
   "outputs": [],
   "source": [
    "# Calculate confusion matrix for ANN\n",
    "ann_cm = confusion_matrix(Y_test, ann_Y_pred)"
   ]
  },
  {
   "cell_type": "code",
   "execution_count": 29,
   "id": "4219f9fb",
   "metadata": {},
   "outputs": [
    {
     "data": {
      "image/png": "[encoded data removed]",
      "text/plain": [
       "<Figure size 640x480 with 2 Axes>"
      ]
     },
     "metadata": {},
     "output_type": "display_data"
    }
   ],
   "source": [
    "# Plot confusion matrix for ANN\n",
    "import matplotlib.pyplot as plt\n",
    "plt.figure()\n",
    "plt.title('Confusion Matrix for ANN')\n",
    "plt.imshow(ann_cm, interpolation='nearest', cmap=plt.cm.Blues)\n",
    "plt.colorbar()\n",
    "tick_marks = np.arange(2)\n",
    "plt.xticks(tick_marks, ['FAKE', 'REAL'])\n",
    "plt.yticks(tick_marks, ['FAKE', 'REAL'])\n",
    "plt.xlabel('Predicted label')\n",
    "plt.ylabel('True label')\n",
    "plt.show()\n"
   ]
  },
  {
   "cell_type": "code",
   "execution_count": 46,
   "id": "8f889e19",
   "metadata": {},
   "outputs": [
    {
     "data": {
      "image/png": "[encoded data removed]",
      "text/plain": [
       "<Figure size 640x480 with 1 Axes>"
      ]
     },
     "metadata": {},
     "output_type": "display_data"
    }
   ],
   "source": [
    "# Plot training and validation accuracy for ANN\n",
    "plt.plot(ann_history.history['accuracy'], label='ANN Training Accuracy')\n",
    "plt.plot(ann_history.history['val_accuracy'], label='ANN Validation Accuracy')\n",
    "plt.title('ANN Training and Validation Accuracy')\n",
    "plt.xlabel('Epochs')\n",
    "plt.ylabel('Accuracy')\n",
    "plt.legend()\n",
    "plt.show()"
   ]
  },
  {
   "cell_type": "code",
   "execution_count": 31,
   "id": "cccb9c63",
   "metadata": {},
   "outputs": [],
   "source": [
    "# RNN model\n",
    "rnn_model = Sequential()\n",
    "rnn_model.add(Embedding(input_dim=tfidf_X_train.shape[1]+1, output_dim=128))  # Using the input dimension directly\n",
    "rnn_model.add(SpatialDropout1D(0.5))\n",
    "rnn_model.add(LSTM(units=64, dropout=0.5, recurrent_dropout=0.5))\n",
    "rnn_model.add(Dense(1, activation='sigmoid'))"
   ]
  },
  {
   "cell_type": "code",
   "execution_count": 18,
   "id": "99184874",
   "metadata": {},
   "outputs": [],
   "source": [
    "rnn_model.compile(loss='binary_crossentropy', optimizer='adam', metrics=['accuracy'])"
   ]
  },
  {
   "cell_type": "code",
   "execution_count": 19,
   "id": "0ebb5ff5",
   "metadata": {},
   "outputs": [
    {
     "name": "stdout",
     "output_type": "stream",
     "text": [
      "Epoch 1/2\n",
      "\u001b[1m208/208\u001b[0m \u001b[32m━━━━━━━━━━━━━━━━━━━━\u001b[0m\u001b[37m\u001b[0m \u001b[1m1077s\u001b[0m 5s/step - accuracy: 0.5111 - loss: 0.6940 - val_accuracy: 0.4973 - val_loss: 0.6932\n",
      "Epoch 2/2\n",
      "\u001b[1m208/208\u001b[0m \u001b[32m━━━━━━━━━━━━━━━━━━━━\u001b[0m\u001b[37m\u001b[0m \u001b[1m1108s\u001b[0m 5s/step - accuracy: 0.4997 - loss: 0.6938 - val_accuracy: 0.5027 - val_loss: 0.6932\n"
     ]
    }
   ],
   "source": [
    "# Train the RNN model with sparse representation\n",
    "rnn_history = rnn_model.fit(tfidf_X_train, Y_train, epochs=2, batch_size=64, validation_split=0.2)"
   ]
  },
  {
   "cell_type": "code",
   "execution_count": 32,
   "id": "54e6b989",
   "metadata": {},
   "outputs": [
    {
     "name": "stdout",
     "output_type": "stream",
     "text": [
      "\u001b[1m130/130\u001b[0m \u001b[32m━━━━━━━━━━━━━━━━━━━━\u001b[0m\u001b[37m\u001b[0m \u001b[1m78s\u001b[0m 590ms/step\n"
     ]
    }
   ],
   "source": [
    "# Evaluate the RNN model\n",
    "rnn_Y_pred = (rnn_model.predict(tfidf_X_test.toarray()) > 0.5).astype(\"int32\")"
   ]
  },
  {
   "cell_type": "code",
   "execution_count": null,
   "id": "69e0f310",
   "metadata": {},
   "outputs": [],
   "source": [
    "# Classification report for RNN\n",
    "print(\"Classification Report for RNN:\")\n",
    "print(classification_report(Y_test, rnn_Y_pred))"
   ]
  },
  {
   "cell_type": "code",
   "execution_count": 34,
   "id": "ee46fe93",
   "metadata": {},
   "outputs": [],
   "source": [
    "rnn_cm = confusion_matrix(Y_test, rnn_Y_pred)"
   ]
  },
  {
   "cell_type": "code",
   "execution_count": 36,
   "id": "77551104",
   "metadata": {},
   "outputs": [
    {
     "data": {
      "image/png": "[encoded data removed]",
      "text/plain": [
       "<Figure size 640x480 with 2 Axes>"
      ]
     },
     "metadata": {},
     "output_type": "display_data"
    }
   ],
   "source": [
    "# Plot confusion matrix for RNN\n",
    "import seaborn as sns\n",
    "plt.title('Confusion Matrix for RNN')\n",
    "sns.heatmap(rnn_cm, annot=True, fmt='d', cmap='Blues')\n",
    "plt.xlabel('Predicted label')\n",
    "plt.ylabel('True label')\n",
    "plt.show()"
   ]
  },
  {
   "cell_type": "code",
   "execution_count": 47,
   "id": "c51ee53e",
   "metadata": {},
   "outputs": [
    {
     "ename": "NameError",
     "evalue": "name 'rnn_history' is not defined",
     "output_type": "error",
     "traceback": [
      "\u001b[1;31m---------------------------------------------------------------------------\u001b[0m",
      "\u001b[1;31mNameError\u001b[0m                                 Traceback (most recent call last)",
      "Cell \u001b[1;32mIn[47], line 2\u001b[0m\n\u001b[0;32m      1\u001b[0m \u001b[38;5;66;03m# Plot training and validation accuracy for RNN\u001b[39;00m\n\u001b[1;32m----> 2\u001b[0m plt\u001b[38;5;241m.\u001b[39mplot(rnn_history\u001b[38;5;241m.\u001b[39mhistory[\u001b[38;5;124m'\u001b[39m\u001b[38;5;124maccuracy\u001b[39m\u001b[38;5;124m'\u001b[39m], label\u001b[38;5;241m=\u001b[39m\u001b[38;5;124m'\u001b[39m\u001b[38;5;124mRNN Training Accuracy\u001b[39m\u001b[38;5;124m'\u001b[39m)\n\u001b[0;32m      3\u001b[0m plt\u001b[38;5;241m.\u001b[39mplot(rnn_history\u001b[38;5;241m.\u001b[39mhistory[\u001b[38;5;124m'\u001b[39m\u001b[38;5;124mval_accuracy\u001b[39m\u001b[38;5;124m'\u001b[39m], label\u001b[38;5;241m=\u001b[39m\u001b[38;5;124m'\u001b[39m\u001b[38;5;124mRNN Validation Accuracy\u001b[39m\u001b[38;5;124m'\u001b[39m)\n\u001b[0;32m      4\u001b[0m plt\u001b[38;5;241m.\u001b[39mtitle(\u001b[38;5;124m'\u001b[39m\u001b[38;5;124mRNN Training and Validation Accuracy\u001b[39m\u001b[38;5;124m'\u001b[39m)\n",
      "\u001b[1;31mNameError\u001b[0m: name 'rnn_history' is not defined"
     ]
    }
   ],
   "source": [
    "# Plot training and validation accuracy for RNN\n",
    "plt.plot(rnn_history.history['accuracy'], label='RNN Training Accuracy')\n",
    "plt.plot(rnn_history.history['val_accuracy'], label='RNN Validation Accuracy')\n",
    "plt.title('RNN Training and Validation Accuracy')\n",
    "plt.xlabel('Epochs')\n",
    "plt.ylabel('Accuracy')\n",
    "plt.legend()\n",
    "plt.show()"
   ]
  },
  {
   "cell_type": "code",
   "execution_count": 1,
   "id": "1a8a0f03",
   "metadata": {},
   "outputs": [
    {
     "name": "stdout",
     "output_type": "stream",
     "text": [
      "BLEU Score: 1.0695028554759082e-155\n"
     ]
    },
    {
     "name": "stderr",
     "output_type": "stream",
     "text": [
      "C:\\ProgramData\\anaconda3\\Lib\\site-packages\\nltk\\translate\\bleu_score.py:552: UserWarning: \n",
      "The hypothesis contains 0 counts of 3-gram overlaps.\n",
      "Therefore the BLEU score evaluates to 0, independently of\n",
      "how many N-gram overlaps of lower order it contains.\n",
      "Consider using lower n-gram order or use SmoothingFunction()\n",
      "  warnings.warn(_msg)\n",
      "C:\\ProgramData\\anaconda3\\Lib\\site-packages\\nltk\\translate\\bleu_score.py:552: UserWarning: \n",
      "The hypothesis contains 0 counts of 4-gram overlaps.\n",
      "Therefore the BLEU score evaluates to 0, independently of\n",
      "how many N-gram overlaps of lower order it contains.\n",
      "Consider using lower n-gram order or use SmoothingFunction()\n",
      "  warnings.warn(_msg)\n"
     ]
    }
   ],
   "source": [
    "from nltk.translate.bleu_score import sentence_bleu\n",
    "\n",
    "# Example function to calculate BLEU score\n",
    "def calculate_bleu_score(reference, hypothesis):\n",
    "    return sentence_bleu([reference], hypothesis)\n",
    "\n",
    "# Example usage\n",
    "reference_text ='''Yes There Are Paid Government Trolls On Social Media, Blogs, Forums And Websites February 26th, 2014'''\n",
    "hypothesis_text = \"Generated text from the model.\"\n",
    "bleu_score = calculate_bleu_score(reference_text, hypothesis_text)\n",
    "\n",
    "print(\"BLEU Score:\", bleu_score)\n"
   ]
  },
  {
   "cell_type": "code",
   "execution_count": 40,
   "id": "95d42796",
   "metadata": {},
   "outputs": [
    {
     "name": "stdout",
     "output_type": "stream",
     "text": [
      "BLEU Score for ANN: 0\n"
     ]
    }
   ],
   "source": [
    "from nltk.translate.bleu_score import sentence_bleu\n",
    "\n",
    "# Flatten the list of lists into a single list\n",
    "hypothesis_flat = [token for sublist in ann_Y_pred.tolist() for token in sublist]\n",
    "\n",
    "# Calculate BLEU score\n",
    "bleu_score_ann = sentence_bleu(reference_text, hypothesis_flat)\n",
    "\n",
    "# Print the BLEU score\n",
    "print(\"BLEU Score for ANN:\", bleu_score_ann)\n"
   ]
  },
  {
   "cell_type": "code",
   "execution_count": 42,
   "id": "50e333a2",
   "metadata": {},
   "outputs": [
    {
     "name": "stdout",
     "output_type": "stream",
     "text": [
      "BLEU Score for RNN: 0\n"
     ]
    }
   ],
   "source": [
    "from nltk.translate.bleu_score import sentence_bleu\n",
    "\n",
    "# Flatten the list of lists into a single list\n",
    "hypothesis_flat = [token for sublist in ann_Y_pred.tolist() for token in sublist]\n",
    "\n",
    "# Calculate BLEU score\n",
    "bleu_score_rnn = sentence_bleu(reference_text, hypothesis_flat)\n",
    "\n",
    "# Print the BLEU score\n",
    "print(\"BLEU Score for RNN:\", bleu_score_ann)\n"
   ]
  },
  {
   "cell_type": "code",
   "execution_count": 6,
   "id": "1460ae00",
   "metadata": {},
   "outputs": [],
   "source": [
    "import pickle\n",
    "from sklearn.feature_extraction.text import TfidfVectorizer\n",
    "from sklearn.linear_model import PassiveAggressiveClassifier\n",
    "from sklearn.model_selection import train_test_split\n",
    "from sklearn.metrics import accuracy_score\n",
    "\n",
    "# Example training data\n",
    "X = [\"CSK win IPL\", \"Fake news about the election\", \"Real news about space\"]\n",
    "y = [1, 0, 1]  # 1 for real, 0 for fake\n",
    "\n",
    "# Preprocess and vectorize the data\n",
    "tfidf_v = TfidfVectorizer(max_features=5000)  # Use appropriate max_features based on your data\n",
    "X_tfidf = tfidf_v.fit_transform(X)\n",
    "\n",
    "# Train the model\n",
    "model = PassiveAggressiveClassifier()\n",
    "model.fit(X_tfidf, y)\n",
    "\n",
    "# Save the model and vectorizer\n",
    "with open('model.pkl', 'wb') as model_file:\n",
    "    pickle.dump(model, model_file)\n",
    "\n",
    "with open('vectorizer.pkl', 'wb') as vectorizer_file:\n",
    "    pickle.dump(tfidf_v, vectorizer_file)\n"
   ]
  },
  {
   "cell_type": "code",
   "execution_count": 9,
   "id": "bff1ef47",
   "metadata": {},
   "outputs": [
    {
     "name": "stdout",
     "output_type": "stream",
     "text": [
      "Prediction: Real News\n"
     ]
    }
   ],
   "source": [
    "import pickle\n",
    "from sklearn.feature_extraction.text import TfidfVectorizer\n",
    "\n",
    "# Load the model and vectorizer\n",
    "with open('model.pkl', 'rb') as model_file:\n",
    "    model = pickle.load(model_file)\n",
    "\n",
    "with open('vectorizer.pkl', 'rb') as vectorizer_file:\n",
    "    tfidf_v = pickle.load(vectorizer_file)\n",
    "\n",
    "def preprocess(news):\n",
    "    # Implement your preprocessing steps if any\n",
    "    return news\n",
    "\n",
    "def predict_fake_news(news):\n",
    "    preprocessed_news = preprocess(news)\n",
    "    vectorized_news = tfidf_v.transform([preprocessed_news])\n",
    "    prediction = model.predict(vectorized_news)[0]\n",
    "    if prediction >0.5:\n",
    "        return \"Real News\"\n",
    "    else:\n",
    "        return \"Fake News\"\n",
    "\n",
    "# Example usage\n",
    "news_article = \"CSK win IPL in 2024.\"\n",
    "prediction = predict_fake_news(news_article)\n",
    "print(\"Prediction:\", prediction)\n"
   ]
  },
  {
   "cell_type": "code",
   "execution_count": null,
   "id": "6f34275d",
   "metadata": {},
   "outputs": [],
   "source": []
  }
 ],
 "metadata": {
  "kernelspec": {
   "display_name": "Python 3 (ipykernel)",
   "language": "python",
   "name": "python3"
  },
  "language_info": {
   "codemirror_mode": {
    "name": "ipython",
    "version": 3
   },
   "file_extension": ".py",
   "mimetype": "text/x-python",
   "name": "python",
   "nbconvert_exporter": "python",
   "pygments_lexer": "ipython3",
   "version": "3.11.5"
  }
 },
 "nbformat": 4,
 "nbformat_minor": 5
}
